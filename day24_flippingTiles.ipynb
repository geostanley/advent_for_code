{
 "cells": [
  {
   "cell_type": "markdown",
   "metadata": {},
   "source": [
    "## Part one\n",
    "\n",
    "We have a system of hexagonal tiles, all starting face up (white), with a black reverse side, and a central tile at (0,0). The task is to follow each set of instructions (east, south east, west etc) and flip the tile that you land on. Then at the end, count the number of black tiles. Remember, one tile can be flipped several times."
   ]
  },
  {
   "cell_type": "code",
   "execution_count": 2,
   "metadata": {},
   "outputs": [],
   "source": [
    "# use a context manager to read lines from text file\n",
    "with open('day24_input.txt', 'r') as f:\n",
    "    file_contents = f.read()\n",
    "    \n",
    "# split by new line and remove any empty strings\n",
    "directions = file_contents.split('\\n')\n",
    "directions = [direct for direct in directions if direct.split()]\n",
    "\n",
    "# iterate through the list and split each string into a list of instructions\n",
    "directs_l = []\n",
    "for direct in directions:\n",
    "    \n",
    "    direct_sep = direct.replace('e', 'e,')\n",
    "    direct_sep = direct_sep.replace('w', 'w,')\n",
    "    direct_sep = direct_sep.rstrip(',').split(',')\n",
    "    \n",
    "    directs_l.append(direct_sep)"
   ]
  },
  {
   "cell_type": "code",
   "execution_count": 13,
   "metadata": {},
   "outputs": [],
   "source": [
    "# convert instructions to cartesian coords\n",
    "def comp_to_coords(comp_direct):\n",
    "    \n",
    "    '''Convert compass directions to cartesion coords (imagined for hexagonal tiles)'''\n",
    "    \n",
    "    if comp_direct == 'e':\n",
    "        x=2\n",
    "        y=0\n",
    "    \n",
    "    elif comp_direct == 'se':\n",
    "        x=1\n",
    "        y=-1\n",
    "    \n",
    "    elif comp_direct == 'sw':\n",
    "        x=-1\n",
    "        y=-1\n",
    "    \n",
    "    elif comp_direct == 'w':\n",
    "        x=-2\n",
    "        y=0\n",
    "    \n",
    "    elif comp_direct == 'nw':\n",
    "        x=-1\n",
    "        y=1\n",
    "    \n",
    "    elif comp_direct == 'ne':\n",
    "        x=1\n",
    "        y=1\n",
    "        \n",
    "    return x, y"
   ]
  },
  {
   "cell_type": "code",
   "execution_count": 4,
   "metadata": {},
   "outputs": [],
   "source": [
    "# for each set of instructions, loop through the instructions, follow the coordinates (i.e. x+=this_x etc), \n",
    "# and if this coordinate is not a key in the dict, store it as a black tile (-1). If it is in the dict, flip it (*-1).\n",
    "\n",
    "# white = 1, black = -1, all start as white\n",
    "\n",
    "tiles_dict = {}\n",
    "\n",
    "for tile_direct in directs_l:\n",
    "    x=0\n",
    "    y=0\n",
    "    for comp_direct in tile_direct: # read the compass instructions and follow in cartesian coords\n",
    "        this_x, this_y = comp_to_coords(comp_direct)\n",
    "        x += this_x\n",
    "        y += this_y\n",
    "        \n",
    "    if (x,y) not in tiles_dict: # if land on new tile, flip to blacl -> -1\n",
    "        tiles_dict[x,y] = -1\n",
    "    else: # flip again\n",
    "        tiles_dict[x,y] = tiles_dict[x,y]*-1"
   ]
  },
  {
   "cell_type": "code",
   "execution_count": 5,
   "metadata": {},
   "outputs": [
    {
     "name": "stdout",
     "output_type": "stream",
     "text": [
      "There are 469 black tiles\n"
     ]
    }
   ],
   "source": [
    "# count and print the number of black tiles\n",
    "\n",
    "black_tile_count = 0\n",
    "\n",
    "for tile in tiles_dict.values():\n",
    "    if tile == -1:\n",
    "        black_tile_count += 1\n",
    "        \n",
    "print(f'There are {black_tile_count} black tiles')"
   ]
  },
  {
   "cell_type": "markdown",
   "metadata": {},
   "source": [
    "## Part two is a game of life style simulation\n",
    "\n",
    "### The two rules are:\n",
    "1. black tile and neighbouring either 0 or >2 black tiles -> white\n",
    "2. white tile and neighbouring 2 black tiles -> black\n",
    "\n",
    "### The task is to run the simulation x100 and return the total number of black tiles."
   ]
  },
  {
   "cell_type": "code",
   "execution_count": 6,
   "metadata": {},
   "outputs": [],
   "source": [
    "def make_list_neighbours(x,y):\n",
    "    \n",
    "    '''accepts cartesian coords and returns a list of tuples of all the ehxagonal neighbours'''\n",
    "    \n",
    "    return [(x+2,y), (x+1,y-1), (x-1,y-1), (x-2,y), (x-1,y+1), (x+1,y+1)]\n",
    "      "
   ]
  },
  {
   "cell_type": "code",
   "execution_count": 7,
   "metadata": {},
   "outputs": [],
   "source": [
    "def create_dict_neighbs(tiles_dict):\n",
    "\n",
    "    '''iterate through tiles, make neighbours, and if not already present, make white (1)'''\n",
    "\n",
    "    tiles_dict_new = tiles_dict.copy()\n",
    "\n",
    "    for tile_xy, tile_col in tiles_dict.items():\n",
    "\n",
    "        # create all poss neighbours\n",
    "        neighbs_l = make_list_neighbours(tile_xy[0],tile_xy[1])\n",
    "\n",
    "        for neighb in neighbs_l: # iterate through poss neighbs\n",
    "\n",
    "            if neighb not in tiles_dict: # if tile not in dict, create and make white\n",
    "                tiles_dict_new[neighb[0],neighb[1]] = 1\n",
    "\n",
    "    return tiles_dict_new"
   ]
  },
  {
   "cell_type": "code",
   "execution_count": 8,
   "metadata": {},
   "outputs": [],
   "source": [
    "def flip_tiles_simultaneously(tiles_dict):\n",
    "\n",
    "    \"\"\"\n",
    "    create new dict with neighbours, check all tiles for neighbs, create new dict with flipped tiles \n",
    "    (then final step is to put into loop)\n",
    "    \"\"\"\n",
    "\n",
    "    tiles_dict_flipped = tiles_dict.copy()\n",
    "\n",
    "    for tile_xy, tile_col in tiles_dict.items():\n",
    "\n",
    "        numb_blacks = 0\n",
    "\n",
    "        # create all poss neighbours and count blacks\n",
    "        neighbs_l = make_list_neighbours(tile_xy[0],tile_xy[1])\n",
    "        for neighb in neighbs_l:\n",
    "            if (neighb in tiles_dict) and (tiles_dict[neighb[0],neighb[1]] == -1):\n",
    "                numb_blacks += 1\n",
    "\n",
    "        # know numb of black neighbours, so apply rules\n",
    "        if ((tile_col == -1) and (numb_blacks == 0)) or ((tile_col == -1) and (numb_blacks>2)): # black and either 0 or >2 black neighbs -> white\n",
    "            tiles_dict_flipped[tile_xy[0],tile_xy[1]] = 1\n",
    "\n",
    "        elif (tile_col == 1) and (numb_blacks == 2): # white and 2 black neighbs -> black\n",
    "            tiles_dict_flipped[tile_xy[0],tile_xy[1]] = -1\n",
    "\n",
    "        else:\n",
    "            continue\n",
    "    \n",
    "    return tiles_dict_flipped\n"
   ]
  },
  {
   "cell_type": "code",
   "execution_count": 9,
   "metadata": {},
   "outputs": [],
   "source": [
    "def number_black_tiles(tiles_dict):\n",
    "    \n",
    "    \"\"\"\n",
    "    return number of black tiles (-1) in dict\n",
    "    \"\"\"\n",
    "\n",
    "    black_tile_count = 0\n",
    "\n",
    "    for tile in tiles_dict.values():\n",
    "        if tile == -1:\n",
    "            black_tile_count += 1\n",
    "            \n",
    "    return black_tile_count\n",
    "        "
   ]
  },
  {
   "cell_type": "code",
   "execution_count": 14,
   "metadata": {},
   "outputs": [
    {
     "name": "stdout",
     "output_type": "stream",
     "text": [
      "There are 12477 black tiles\n"
     ]
    }
   ],
   "source": [
    "# now run the simulation x100 (store results in a list in case want to plot)\n",
    "\n",
    "numb_black_list = []\n",
    "\n",
    "for i in range(100):\n",
    "    \n",
    "    # make dict with neighbours\n",
    "    tiles_dict = create_dict_neighbs(tiles_dict)\n",
    "    \n",
    "    #  flip the tiles\n",
    "    tiles_dict = flip_tiles_simultaneously(tiles_dict)\n",
    "    \n",
    "    # count the number blacks\n",
    "    numb_blacks = number_black_tiles(tiles_dict)\n",
    "    \n",
    "    numb_black_list.append(numb_blacks)\n",
    "    \n",
    "    \n",
    "print(f'There are {numb_black_list[-1]} black tiles')\n",
    "    "
   ]
  },
  {
   "cell_type": "code",
   "execution_count": null,
   "metadata": {},
   "outputs": [],
   "source": []
  },
  {
   "cell_type": "code",
   "execution_count": null,
   "metadata": {},
   "outputs": [],
   "source": []
  },
  {
   "cell_type": "code",
   "execution_count": null,
   "metadata": {},
   "outputs": [],
   "source": []
  }
 ],
 "metadata": {
  "kernelspec": {
   "display_name": "Python 3",
   "language": "python",
   "name": "python3"
  },
  "language_info": {
   "codemirror_mode": {
    "name": "ipython",
    "version": 3
   },
   "file_extension": ".py",
   "mimetype": "text/x-python",
   "name": "python",
   "nbconvert_exporter": "python",
   "pygments_lexer": "ipython3",
   "version": "3.7.6"
  }
 },
 "nbformat": 4,
 "nbformat_minor": 4
}
